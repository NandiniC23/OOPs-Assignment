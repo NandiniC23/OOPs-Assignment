{
  "nbformat": 4,
  "nbformat_minor": 0,
  "metadata": {
    "colab": {
      "provenance": []
    },
    "kernelspec": {
      "name": "python3",
      "display_name": "Python 3"
    },
    "language_info": {
      "name": "python"
    }
  },
  "cells": [
    {
      "cell_type": "markdown",
      "source": [
        "#**Theory Questions**"
      ],
      "metadata": {
        "id": "vaVezVxYMBdL"
      }
    },
    {
      "cell_type": "markdown",
      "source": [
        "#**1. What is Object-Oriented Programming (OOP)?**\n",
        "\n",
        "-  Object-Oriented Programming (OOP) is a programming paradigm that organizes software design around the concept of \"objects.\" These objects are instances of classes, which serve as blueprints defining their attributes (data) and methods (functions). OOP aims to model real-world entities and relationships, making software more intuitive, modular, and maintainable.\n",
        "\n",
        "#**2. What is a class in OOP?**\n",
        "\n",
        "-  A class in Object-Oriented Programming (OOP) is a blueprint or template for creating objects. It defines the structure and behavior that the objects created from it will have. Essentially, a class encapsulates data for the object and methods to manipulate that data, providing a modular and organized way to structure code.\n",
        "\n",
        "A class defines what an object is and what it can do.\n",
        "\n",
        "It supports encapsulation, reusability, and modularity in code.\n",
        "\n",
        "Objects created from classes are the core of OOP.\n",
        "\n",
        "#**3. What is an object in OOP?**\n",
        "-  In OOP, an object is a fundamental construct that represents a concrete instance of a class, combining state, behavior, and identity into a single entity.\n",
        "\n",
        "**Objects Matter in OOP -**\n",
        "\n",
        "Encapsulation: Objects bundle data and methods into a single unit, hiding internal details.\n",
        "\n",
        "Modularity: Objects represent real-world or conceptual entities, making programs easier to understand and maintain.\n",
        "\n",
        "Reuse and Extendability: Classes can be instantiated many times, and can also be inherited to form more complex types.\n",
        "\n",
        "#**4. What is the difference between abstraction and encapsulation?**\n",
        "\n",
        "-  Abstraction and Encapsulation are two fundamental concepts in Object-Oriented Programming (OOP), and while they are related, they serve different purposes.\n",
        "\n",
        "| Feature            | **Abstraction**                                           | **Encapsulation**                                                                                    |\n",
        "| ------------------ | --------------------------------------------------------- | ---------------------------------------------------------------------------------------------------- |\n",
        "| **Definition**     | Hiding **complexity** and showing only essential details. | Hiding **internal state** and requiring all interaction to be performed through an object’s methods. |\n",
        "| **Goal**           | Reduce complexity and isolate impact of changes.          | Protect internal object state and enforce rules.                                                     |\n",
        "| **Focus**          | **What** an object does.                                  | **How** an object does it.                                                                           |\n",
        "| **Implementation** | Done using **abstract classes**, **interfaces**, etc.     | Done using **access modifiers** (private, public, protected).                                        |\n",
        "| **Example**        | You can drive a car without knowing how the engine works. | You can't directly change the speed of a car; you use the accelerator.                               |\n",
        "\n",
        "#**5. What are dunder methods in Python?**\n",
        "-  Dunder methods in Python (short for \"double underscore\" methods, also known as magic methods or special methods) are special methods with names that start and end with double underscores like __init__, __str__, __len__, etc.\n",
        "\n",
        "  They are used to define how objects of a class behave with built-in Python operations such as printing, adding, comparing, or indexing.\n",
        "\n",
        "| Method                  | Purpose                                  | Example Usage                       |\n",
        "| ----------------------- | ---------------------------------------- | ----------------------------------- |\n",
        "| `__init__`              | Constructor, initializes new objects     | `obj = MyClass()`                   |\n",
        "| `__str__`               | String representation for `print()`      | `print(obj)`                        |\n",
        "| `__repr__`              | Official string representation           | `repr(obj)` or in interactive shell |\n",
        "| `__len__`               | Returns the length                       | `len(obj)`                          |\n",
        "| `__getitem__`           | Get item using indexing                  | `obj[0]`                            |\n",
        "| `__setitem__`           | Set item using indexing                  | `obj[0] = value`                    |\n",
        "| `__delitem__`           | Delete item using indexing               | `del obj[0]`                        |\n",
        "| `__eq__`                | Equality comparison (`==`)               | `obj1 == obj2`                      |\n",
        "| `__lt__`                | Less than (`<`)                          | `obj1 < obj2`                       |\n",
        "| `__add__`               | Addition (`+`)                           | `obj1 + obj2`                       |\n",
        "| `__call__`              | Makes an object callable like a function | `obj()`                             |\n",
        "| `__enter__`, `__exit__` | Used in context managers (`with`)        | `with obj:`                         |\n",
        "\n",
        "#**6.  Explain the concept of inheritance in OOPH.**\n",
        "-  Inheritance is a core principle of OOP that allows a class (child/subclass) to inherit attributes and methods from another class (parent/superclass).\n",
        "\n",
        "It enables code reuse, logical hierarchy, and polymorphism, meaning you can build new functionality on top of existing code without rewriting it.\n",
        "\n",
        "| Type             | Description                                               |\n",
        "| ---------------- | --------------------------------------------------------- |\n",
        "| **Single**       | One child inherits from one parent.                       |\n",
        "| **Multiple**     | One child inherits from multiple parents.                 |\n",
        "| **Multilevel**   | A class inherits from a class that inherits from another. |\n",
        "| **Hierarchical** | Multiple classes inherit from the same parent.            |\n",
        "| **Hybrid**       | Combination of two or more types above.                   |\n",
        "\n",
        "#**7. What is polymorphism in OOP?**\n",
        "-  Polymorphism in Object-Oriented Programming (OOP) means \"many forms.\" It allows different classes to be treated as instances of the same parent class, especially when they share methods with the same name but different behavior.\n",
        "\n",
        "Two Main Types of Polymorphism:\n",
        "\n",
        "**1.Compile-time (Static) Polymorphism**\n",
        "\n",
        "Achieved via method overloading (not natively supported in Python).\n",
        "\n",
        "Example in languages like Java or C++.\n",
        "\n",
        "**2.Runtime (Dynamic) Polymorphism**\n",
        "\n",
        "Achieved via method overriding and duck typing in Python.\n",
        "\n",
        "Python focuses heavily on this type.\n",
        "\n",
        "#**8. How is encapsulation achieved in Python?**\n",
        "-  Encapsulation in Python is the practice of hiding internal object details (like data) and restricting direct access to them. This is done to protect the internal state of an object and to ensure that it's only changed in controlled ways (e.g., through methods).\n",
        "\n",
        "Use double underscores (__) to make attributes private (name mangling).\n",
        "\n",
        "Provide public methods (getters/setters) to access or modify private attributes safely.\n",
        "\n",
        "Encapsulation helps protect the internal state and keeps our class API clean.\n",
        "\n",
        "#**9. What is a constructor in Python?**\n",
        "-  A constructor in Python is a special method used to initialize a newly created object. It automatically runs when you create an instance of a class.\n",
        "\n",
        "  In Python, the constructor is defined using the __init__ method.\n",
        "\n",
        "__init__() is the most commonly used constructor in Python.\n",
        "\n",
        "we can customize it to accept any number of arguments.\n",
        "\n",
        "If we don’t define an __init__() method, Python provides a default constructor that does nothing.\n",
        "\n",
        "#**10. What are class and static methods in Python?**\n",
        "-  Both class methods and static methods are alternatives to instance methods and are used when our method’s behavior doesn't depend entirely on an individual object (self). Instead, they work at the class level.\n",
        "\n",
        "| Feature        | Instance Method    | Class Method                  | Static Method              |\n",
        "| -------------- | ------------------ | ----------------------------- | -------------------------- |\n",
        "| Decorator      | *None*             | `@classmethod`                | `@staticmethod`            |\n",
        "| First Argument | `self` (instance)  | `cls` (class)                 | No required first argument |\n",
        "| Access to      | Instance and class | Class only                    | Neither instance nor class |\n",
        "| Common Use     | Regular behavior   | Factory/configuration methods | Utility/helper functions   |\n",
        "\n",
        "#**11. What is method overloading in Python?**\n",
        "-  Method overloading is the ability to define multiple methods with the same name but with different parameters (number or type). It allows a method to behave differently based on the arguments passed.\n",
        "\n",
        " Unlike some languages (like Java or C++), Python does not support traditional method overloading based on function signatures. If you define multiple methods with the same name, only the last one is retained.\n",
        "\n",
        "| Feature                 | Support in Python             |\n",
        "| ----------------------- | ----------------------------- |\n",
        "| Traditional Overloading | Not directly supported      |\n",
        "| Simulated Overloading   | Using default/variable args |\n",
        "| Type-based Overloading  | Using `@singledispatch`     |\n",
        "\n",
        "#**12. What is method overriding in OOP?**\n",
        "-  Method overriding is an OOP feature where a subclass provides a specific implementation of a method that is already defined in its parent class.\n",
        "\n",
        "  It's used to customize or extend inherited behavior.\n",
        "\n",
        "Same method name, parameters, and return type.\n",
        "\n",
        "Defined in both parent and child classes.\n",
        "\n",
        "The child class's version overrides the parent's version when called from a child instance.\n",
        "\n",
        "#**13. What is a property decorator in Python?**\n",
        "-  The property decorator in Python is used to define a method as a \"getter\" — allowing you to access it like an attribute, while still keeping the logic inside a method.\n",
        "\n",
        "It’s a way to achieve encapsulation and controlled access to class attributes.\n",
        "\n",
        "**Use property - **\n",
        "\n",
        "Hide internal implementation details.\n",
        "\n",
        "Run code when an attribute is accessed.\n",
        "\n",
        "Protect data with validation logic.\n",
        "\n",
        "Create read-only or computed attributes.\n",
        "\n",
        "| Decorator         | Purpose           |\n",
        "| ----------------- | ----------------- |\n",
        "| `@property`       | Defines a getter  |\n",
        "| `@<prop>.setter`  | Defines a setter  |\n",
        "| `@<prop>.deleter` | Defines a deleter |\n",
        "\n",
        "#**14. Why is polymorphism important in OOP?**\n",
        "-  Polymorphism is one of the four fundamental principles of OOP (along with encapsulation, inheritance, and abstraction). It allows objects of different classes to be treated through a common interface, especially when those classes are related by inheritance.\n",
        "\n",
        "Polymorphism write general code that works with a variety of objects, making your code cleaner, more maintainable, and easier to extend.\n",
        "\n",
        "#**15. What is an abstract class in Python?**\n",
        "-  An abstract class in Python is a class that cannot be instantiated directly and is designed to be inherited by other classes. It provides a blueprint for other classes by defining abstract methods — methods that must be implemented by any concrete (non-abstract) subclass.\n",
        "\n",
        "**Use Abstract Classes**\n",
        "\n",
        "To enforce consistent interfaces across subclasses.\n",
        "\n",
        "To provide shared base functionality.\n",
        "\n",
        "To prevent instantiation of incomplete or \"unfinished\" classes.\n",
        "\n",
        "#**16. What are the advantages of OOP?**\n",
        "-  Object-Oriented Programming offers a structured and modular approach to software development. It’s especially powerful for building scalable, maintainable, and reusable code in complex applications.\n",
        "\n",
        "| Feature             | Benefit                               |\n",
        "| ------------------- | ------------------------------------- |\n",
        "| Modularity          | Clean structure and separation        |\n",
        "| Reusability         | Code reuse through inheritance        |\n",
        "| Encapsulation       | Data protection and simplified usage  |\n",
        "| Polymorphism        | Flexible and general-purpose code     |\n",
        "| Abstraction         | Simplified, high-level interfaces     |\n",
        "| Maintainability     | Easier debugging and updates          |\n",
        "| Scalability         | Better for large and growing projects |\n",
        "| Real-world modeling | Easier system modeling                |\n",
        "\n",
        "#**17. What is the difference between a class variable and an instance variable?**\n",
        "-  Both class and instance variables store data in objects, but they differ in scope, lifetime, and access.\n",
        "\n",
        "| Feature          | **Class Variable**                          | **Instance Variable**                               |\n",
        "| ---------------- | ------------------------------------------- | --------------------------------------------------- |\n",
        "| **Defined with** | Directly inside the class (outside methods) | Inside methods (usually in `__init__`) using `self` |\n",
        "| **Belongs to**   | The **class** itself                        | Each **individual object (instance)**               |\n",
        "| **Shared by**    | **All instances** of the class              | Unique to **each instance**                         |\n",
        "| **Memory**       | Stored once per class                       | Stored separately per object                        |\n",
        "| **Use case**     | Shared data (e.g. counter, config)          | Object-specific data (e.g. name, age)               |\n",
        "\n",
        "#**18. What is multiple inheritance in Python?**\n",
        "-  Multiple inheritance in Python refers to the ability of a class to inherit attributes and methods from more than one parent class. This allows a derived class to combine functionalities from multiple base classes, promoting code reuse.\n",
        "\n",
        "**Method Resolution Order (MRO):** When multiple inheritance is used, Python follows a method resolution order to determine which method to call if the same method exists in more than one parent class. This is done using the C3 linearization algorithm.\n",
        "\n",
        "**super() function:** The super() function is often used in multiple inheritance to call a method from a parent class. It ensures that the methods from all the parent classes are executed in the correct order according to MRO.\n",
        "\n",
        "#**19. Explain the purpose of ‘’__str__’ and ‘__repr__’ ‘ methods in Python?**\n",
        "\n",
        "-  In Python, __str__ and __repr__ are two special (or \"magic\") methods used to define how objects of a class are represented as strings. While both deal with string representations, they serve different purposes:\n",
        "\n",
        "**1. __str__ (String Representation)**\n",
        "The __str__ method is used to define a human-readable or user-friendly string representation of an object. It's what is returned when you use print() or str() on an object.\n",
        "\n",
        "Purpose: To give a \"nice\" or \"informal\" string representation of an object, typically meant for the end user.\n",
        "\n",
        "When it's used: When you print an object or convert it to a string.\n",
        "\n",
        "**2. __repr__ (Official Representation)**\n",
        "The __repr__ method is used to define a more \"formal\" or \"official\" string representation of an object. It should ideally be a string that, when passed to eval(), would recreate the object (though this is not always possible). The goal of __repr__ is to provide a detailed and unambiguous string representation of the object, primarily for developers.\n",
        "\n",
        "Purpose: To give a more detailed, unambiguous string representation of an object, typically for debugging.\n",
        "\n",
        "When it's used: In the interactive shell, or when you call repr() on an object.\n",
        "\n",
        "**Differences Between __str__ and __repr__**\n",
        "\n",
        "__str__ is intended for human-readable output (more user-friendly).\n",
        "\n",
        "__repr__ is intended for developer-readable output (more formal, useful for debugging or logging).\n",
        "\n",
        "#**20.  What is the significance of the ‘super()’ function in Python?**\n",
        "\n",
        "-  The super() function in Python is a built-in function that is used to call methods from a parent class in a class hierarchy, often in the context of inheritance. It helps in invoking the parent class’s methods without directly referencing the parent class by name. This is particularly useful in multiple inheritance scenarios and can simplify your code, making it more maintainable and flexible.\n",
        "\n",
        "**Significance and Key Uses of super():**\n",
        "\n",
        "**1. Accessing Parent Class Methods:**\n",
        "The super() function is commonly used to call a method from the parent class in a subclass. This is especially helpful when you want to extend or modify the behavior of a parent class method without completely overriding it.\n",
        "\n",
        "**2. In Multiple Inheritance:**\n",
        "In multiple inheritance, where a class inherits from more than one parent class, super() ensures that the methods from the parent classes are called in the correct order, according to the Method Resolution Order (MRO). The MRO is determined using the C3 linearization algorithm, which ensures that classes are visited in a predictable and logical order.\n",
        "\n",
        "**3. Avoiding Direct Class Names:**\n",
        "Using super() allows you to call methods from parent classes without hardcoding the parent class name. This can be helpful in case the class hierarchy changes, making your code more maintainable.\n",
        "\n",
        "**4. Cooperative Multiple Inheritance:**\n",
        "super() is used in multiple inheritance scenarios to ensure that all base classes are properly initialized and their methods are called in a cooperative way.\n",
        "\n",
        "#**21. What is the significance of the __del__ method in Python?**\n",
        "-  The __del__ method in Python is a special method (also known as a \"destructor\") that is used to define the behavior of an object when it is about to be destroyed or garbage collected. It is part of Python's object lifecycle management, and it allows you to release resources, perform clean-up tasks, or log information when an object is no longer needed.\n",
        "\n",
        "**Significance of __del__:**\n",
        "\n",
        "**1.Resource Management:**\n",
        "\n",
        "If your object opens files, sockets, or allocates other system resources, the __del__ method can be used to ensure those resources are properly released.\n",
        "\n",
        "For example, if your object interacts with a database or an external service, you may need to close connections before the object is destroyed.\n",
        "\n",
        "**2. Automatic Cleanup:**\n",
        "\n",
        "The __del__ method provides a form of automatic cleanup, similar to destructors in languages like C++.\n",
        "\n",
        "However, relying on __del__ for cleanup is not always recommended because Python's garbage collection is not deterministic, and there may be cases where __del__ is not called immediately after an object goes out of scope.\n",
        "\n",
        "**3. Debugging and Logging:**\n",
        "\n",
        "You can use the __del__ method to log the destruction of objects, helping with debugging or tracking memory usage.\n",
        "\n",
        "This is particularly useful when debugging resource leaks or understanding when an object is no longer needed.\n",
        "\n",
        "#**22. What is the difference between @staticmethod and @classmethod in Python?**\n",
        "-  In Python, both @staticmethod and @classmethod are used to define methods that are not bound to an instance of the class (i.e., they do not operate on instance-specific data), but they serve different purposes. Here’s a detailed comparison of the two:\n",
        "\n",
        "**1. @staticmethod**\n",
        "A @staticmethod is a method that does not take the instance (self) or the class (cls) as its first argument. It behaves like a regular function, but it belongs to the class's namespace.\n",
        "\n",
        "Purpose: To define a method that doesn’t need access to the instance or the class, but logically belongs to the class. It’s often used for utility functions that are related to the class but don’t need access to its internal state (attributes or methods).\n",
        "\n",
        "Access: It cannot access or modify the class or instance-specific data (like self or cls).\n",
        "\n",
        "**2. @classmethod**\n",
        "A @classmethod is a method that takes the class (cls) as its first argument, rather than an instance (self). This allows it to access or modify class-level attributes, but not instance-specific attributes.\n",
        "\n",
        "Purpose: To define a method that operates on the class itself, rather than on an instance. It can access class variables or call other class methods, and it is often used as an alternative constructor or a method that needs to modify class-level state.\n",
        "\n",
        "Access: It has access to the class and can modify class attributes or call other class methods, but it cannot access instance-specific attributes unless those attributes are passed explicitly.\n",
        "\n",
        "#**23. How does polymorphism work in Python with inheritance?**\n",
        "-  Polymorphism in Python refers to the ability of different objects to respond to the same method in a way that is appropriate to their type. Specifically, it allows subclasses to provide their own implementation of methods that are defined in a parent class. In Python, polymorphism is typically achieved through inheritance and method overriding.\n",
        "\n",
        "**Here's how it works:**\n",
        "\n",
        "Inheritance:\n",
        "A child class (subclass) inherits methods and attributes from its parent class (superclass).\n",
        "\n",
        "Method Overriding:\n",
        "If a child class needs to provide a different implementation for a method already defined in its parent class, it can \"override\" that method by defining a method with the exact same name and parameters within the child class.\n",
        "\n",
        "Polymorphic Behavior:\n",
        "When an object of a child class calls the overridden method, Python's runtime environment automatically invokes the method defined in the child class, rather than the one in the parent class. This means that even if you have a list or collection of objects of different types (parent and child classes), you can call the same method on all of them, and each object will execute its own specific implementation.\n",
        "\n",
        "#**24. What is method chaining in Python OOP?**\n",
        "-  Method chaining in Python (or in Object-Oriented Programming in general) refers to the practice of calling multiple methods on the same object in a single expression. This is achieved by ensuring that each method call returns the object itself (or another object that supports further method calls). In Python, this is typically done by returning self from methods, allowing them to be \"chained\" together.\n",
        "\n",
        "**How Method Chaining Works - **\n",
        "\n",
        "**Self-returning Methods:** To enable method chaining, each method should return the object itself (self), which allows subsequent method calls to be applied to the same object.\n",
        "\n",
        "**Fluent Interface:** Method chaining is often used in conjunction with the fluent interface pattern, which is a style of coding where methods return the object itself to allow a fluent and readable syntax.\n",
        "\n",
        "**Key Benefits of Method Chaining**\n",
        "\n",
        "Compact and Readable Code:\n",
        "\n",
        "Method chaining can make the code more concise and readable, especially when dealing with multiple method calls on the same object.\n",
        "\n",
        "It reduces the need for intermediate variables and repetitive references to the same object.\n",
        "\n",
        "Fluent Interface:\n",
        "\n",
        "Chaining methods together allows you to use a fluent interface, which is a programming style that emphasizes readability and ease of use.\n",
        "\n",
        "This is commonly seen in libraries and frameworks like Pandas, SQLAlchemy, or Flask, where multiple operations on the same object can be performed in a clean, readable way.\n",
        "\n",
        "Immutability-like Behavior:\n",
        "\n",
        "Even if your object is mutable (like the Car example), method chaining gives the appearance of immutability since each method call returns a new instance or the same object with updated state.\n",
        "\n",
        "Encapsulation:\n",
        "\n",
        "It allows each method to operate independently and modify only the relevant parts of the object's state, which is a form of encapsulation.\n",
        "\n",
        "#**25. What is the purpose of the __call__ method in Python?**\n",
        "\n",
        "-  The __call__ method in Python is a special method that allows an instance of a class to be called as if it were a function. This enables you to make an object callable, meaning you can invoke it using parentheses () just like a regular function.\n",
        "\n",
        "**Purpose of __call__ Method**\n",
        "\n",
        "The primary purpose of the __call__ method is to define custom behavior when an object is called. By implementing __call__, you can make objects behave like functions, enabling a more intuitive or flexible API.\n",
        "\n",
        "This method is useful when you want to encapsulate some functionality or logic within an object, but still want to use the object like a function, often for things like:\n",
        "\n",
        "Encapsulating behavior in callable objects: Allowing objects to maintain state while still providing a function-like interface.\n",
        "\n",
        "Decorators: Some decorators or other design patterns use __call__ to wrap or modify the behavior of functions or methods.\n",
        "\n",
        "Implementing functions with state: An object can hold some internal state, and calling it can modify or return that state based on the inputs."
      ],
      "metadata": {
        "id": "RMYD16L4MQce"
      }
    },
    {
      "cell_type": "markdown",
      "source": [
        "#**Practical Questions**"
      ],
      "metadata": {
        "id": "7EfAAlRLAB_O"
      }
    },
    {
      "cell_type": "code",
      "execution_count": null,
      "metadata": {
        "colab": {
          "base_uri": "https://localhost:8080/"
        },
        "id": "Ak_OMOyH__QV",
        "outputId": "bdd1d850-5413-4f1f-98f0-3fcb6420c3ec"
      },
      "outputs": [
        {
          "output_type": "stream",
          "name": "stdout",
          "text": [
            "The animal makes a sound.\n",
            "Bark!\n"
          ]
        }
      ],
      "source": [
        "#1. Create a parent class Animal with a method speak() that prints a generic message. Create a child class Dog that overrides the speak() method to print \"Bark!\".\n",
        "\n",
        "# Parent class\n",
        "class Animal:\n",
        "    def speak(self):\n",
        "        print(\"The animal makes a sound.\")\n",
        "\n",
        "# Child class\n",
        "class Dog(Animal):\n",
        "    def speak(self):\n",
        "        print(\"Bark!\")\n",
        "\n",
        "# Example usage\n",
        "generic_animal = Animal()\n",
        "generic_animal.speak()  # Output: The animal makes a sound.\n",
        "\n",
        "dog = Dog()\n",
        "dog.speak()"
      ]
    },
    {
      "cell_type": "code",
      "source": [
        "#2. Write a program to create an abstract class Shape with a method area(). Derive classes Circle and Rectangle from it and implement the area() method in both.\n",
        "\n",
        "from abc import ABC, abstractmethod\n",
        "import math\n",
        "\n",
        "# Abstract class\n",
        "class Shape(ABC):\n",
        "    @abstractmethod\n",
        "    def area(self):\n",
        "        pass\n",
        "\n",
        "# Derived class: Circle\n",
        "class Circle(Shape):\n",
        "    def __init__(self, radius):\n",
        "        self.radius = radius\n",
        "\n",
        "    def area(self):\n",
        "        return math.pi * self.radius ** 2\n",
        "\n",
        "# Derived class: Rectangle\n",
        "class Rectangle(Shape):\n",
        "    def __init__(self, width, height):\n",
        "        self.width = width\n",
        "        self.height = height\n",
        "\n",
        "    def area(self):\n",
        "        return self.width * self.height\n",
        "\n",
        "# Example usage\n",
        "circle = Circle(3)\n",
        "rectangle = Rectangle(4, 5)\n",
        "\n",
        "print(f\"Area of circle: {circle.area():.2f}\")\n",
        "print(f\"Area of rectangle: {rectangle.area()}\")\n"
      ],
      "metadata": {
        "colab": {
          "base_uri": "https://localhost:8080/"
        },
        "id": "8gLXYpm7AMVc",
        "outputId": "34593836-4faa-40bb-c673-20bc9e259def"
      },
      "execution_count": null,
      "outputs": [
        {
          "output_type": "stream",
          "name": "stdout",
          "text": [
            "Area of circle: 28.27\n",
            "Area of rectangle: 20\n"
          ]
        }
      ]
    },
    {
      "cell_type": "code",
      "source": [
        "#3. Implement a multi-level inheritance scenario where a class Vehicle has an attribute type. Derive a class Car and further derive a class Electric Car that adds a battery attribute.\n",
        "\n",
        "# Base class\n",
        "class Vehicle:\n",
        "    def __init__(self, vehicle_type):\n",
        "        self.vehicle_type = vehicle_type\n",
        "\n",
        "    def show_type(self):\n",
        "        print(f\"Vehicle type: {self.vehicle_type}\")\n",
        "\n",
        "# Derived class (Level 1)\n",
        "class Car(Vehicle):\n",
        "    def __init__(self, vehicle_type, brand):\n",
        "        super().__init__(vehicle_type)\n",
        "        self.brand = brand\n",
        "\n",
        "    def show_brand(self):\n",
        "        print(f\"Car brand: {self.brand}\")\n",
        "\n",
        "# Derived class (Level 2)\n",
        "class ElectricCar(Car):\n",
        "    def __init__(self, vehicle_type, brand, battery_capacity):\n",
        "        super().__init__(vehicle_type, brand)\n",
        "        self.battery_capacity = battery_capacity\n",
        "\n",
        "    def show_battery(self):\n",
        "        print(f\"Battery capacity: {self.battery_capacity} kWh\")\n",
        "\n",
        "# Example usage\n",
        "ecar = ElectricCar(\"Four-Wheeler\", \"Tesla\", 75)\n",
        "ecar.show_type()\n",
        "ecar.show_brand()\n",
        "ecar.show_battery()\n"
      ],
      "metadata": {
        "colab": {
          "base_uri": "https://localhost:8080/"
        },
        "id": "u0JaUFwaCAu1",
        "outputId": "584070db-863f-4abd-fcc7-34d2d4f8e908"
      },
      "execution_count": null,
      "outputs": [
        {
          "output_type": "stream",
          "name": "stdout",
          "text": [
            "Vehicle type: Four-Wheeler\n",
            "Car brand: Tesla\n",
            "Battery capacity: 75 kWh\n"
          ]
        }
      ]
    },
    {
      "cell_type": "code",
      "source": [
        "#4. Demonstrate polymorphism by creating a base class Bird with a method fly(). Create two derived classes Sparrow and Penguin that override the fly() method.\n",
        "\n",
        "# Base class\n",
        "class Bird:\n",
        "    def fly(self):\n",
        "        print(\"This bird can fly in some way.\")\n",
        "\n",
        "# Derived class 1\n",
        "class Sparrow(Bird):\n",
        "    def fly(self):\n",
        "        print(\"Sparrow flies high in the sky.\")\n",
        "\n",
        "# Derived class 2\n",
        "class Penguin(Bird):\n",
        "    def fly(self):\n",
        "        print(\"Penguins cannot fly but are great swimmers.\")\n",
        "\n",
        "# Function demonstrating polymorphism\n",
        "def bird_flight(bird):\n",
        "    bird.fly()\n",
        "\n",
        "# Example usage\n",
        "sparrow = Sparrow()\n",
        "penguin = Penguin()\n",
        "\n",
        "bird_flight(sparrow)\n",
        "bird_flight(penguin)"
      ],
      "metadata": {
        "colab": {
          "base_uri": "https://localhost:8080/"
        },
        "id": "zWlYgMiWCkNJ",
        "outputId": "7fe91b68-da24-4dc5-f116-c07aa8c688e3"
      },
      "execution_count": null,
      "outputs": [
        {
          "output_type": "stream",
          "name": "stdout",
          "text": [
            "Sparrow flies high in the sky.\n",
            "Penguins cannot fly but are great swimmers.\n"
          ]
        }
      ]
    },
    {
      "cell_type": "code",
      "source": [
        " #5. Write a program to demonstrate encapsulation by creating a class BankAccount with private attributes balance and methods to deposit, withdraw, and check balance.\n",
        "\n",
        "class BankAccount:\n",
        "    def __init__(self, initial_balance=0):\n",
        "        self.__balance = initial_balance  # Private attribute\n",
        "\n",
        "    def deposit(self, amount):\n",
        "        \"\"\"Deposit money into the account.\"\"\"\n",
        "        if amount > 0:\n",
        "            self.__balance += amount\n",
        "            print(f\"Deposited: ${amount:.2f}\")\n",
        "        else:\n",
        "            print(\"Deposit amount must be positive.\")\n",
        "\n",
        "    def withdraw(self, amount):\n",
        "        \"\"\"Withdraw money from the account.\"\"\"\n",
        "        if 0 < amount <= self.__balance:\n",
        "            self.__balance -= amount\n",
        "            print(f\"Withdrew: ${amount:.2f}\")\n",
        "        else:\n",
        "            print(\"Invalid amount or insufficient funds.\")\n",
        "\n",
        "    def check_balance(self):\n",
        "        \"\"\"Check the current balance.\"\"\"\n",
        "        print(f\"Current balance: ${self.__balance:.2f}\")\n",
        "\n",
        "#Demonstration\n",
        "if __name__ == \"__main__\":\n",
        "    account = BankAccount(100)\n",
        "    account.check_balance()\n",
        "\n",
        "    account.deposit(50)\n",
        "    account.check_balance()\n",
        "\n",
        "    account.withdraw(30)\n",
        "    account.check_balance()"
      ],
      "metadata": {
        "colab": {
          "base_uri": "https://localhost:8080/"
        },
        "id": "67jEZvd5DH-H",
        "outputId": "2c0baa79-9c3e-468e-ef22-99bc15840562"
      },
      "execution_count": null,
      "outputs": [
        {
          "output_type": "stream",
          "name": "stdout",
          "text": [
            "Current balance: $100.00\n",
            "Deposited: $50.00\n",
            "Current balance: $150.00\n",
            "Withdrew: $30.00\n",
            "Current balance: $120.00\n"
          ]
        }
      ]
    },
    {
      "cell_type": "code",
      "source": [
        "#6. Demonstrate runtime polymorphism using a method play() in a base class Instrument. Derive classes Guitar and Piano that implement their own version of play().\n",
        "\n",
        "# Base class\n",
        "class Instrument:\n",
        "    def play(self):\n",
        "        print(\"Playing an instrument.\")\n",
        "\n",
        "# Derived class Guitar\n",
        "class Guitar(Instrument):\n",
        "    def play(self):\n",
        "        print(\"Strumming the guitar.\")\n",
        "\n",
        "# Derived class Piano\n",
        "class Piano(Instrument):\n",
        "    def play(self):\n",
        "        print(\"Playing the piano.\")\n",
        "\n",
        "# Demonstration of runtime polymorphism\n",
        "def perform(instrument):\n",
        "    instrument.play()  # Calls the appropriate play() method at runtime\n",
        "\n",
        "# Create objects\n",
        "inst1 = Guitar()\n",
        "inst2 = Piano()\n",
        "\n",
        "# Use runtime polymorphism\n",
        "perform(inst1)\n",
        "perform(inst2)\n"
      ],
      "metadata": {
        "colab": {
          "base_uri": "https://localhost:8080/"
        },
        "id": "3CDf8gJUDpZj",
        "outputId": "145e15ae-c3fe-46ea-8cfb-09d690cfa721"
      },
      "execution_count": null,
      "outputs": [
        {
          "output_type": "stream",
          "name": "stdout",
          "text": [
            "Strumming the guitar.\n",
            "Playing the piano.\n"
          ]
        }
      ]
    },
    {
      "cell_type": "code",
      "source": [
        "#7. Create a class MathOperations with a class method add_numbers() to add two numbers and a static method subtract_numbers() to subtract two numbers.\n",
        "\n",
        "class MathOperations:\n",
        "    @classmethod\n",
        "    def add_numbers(cls, a, b):\n",
        "        \"\"\"Class method to add two numbers.\"\"\"\n",
        "        return a + b\n",
        "\n",
        "    @staticmethod\n",
        "    def subtract_numbers(a, b):\n",
        "        \"\"\"Static method to subtract two numbers.\"\"\"\n",
        "        return a - b\n",
        "\n",
        "# Demonstration\n",
        "if __name__ == \"__main__\":\n",
        "    # Using class method\n",
        "    sum_result = MathOperations.add_numbers(35, 20)\n",
        "    print(f\"Sum: {sum_result}\")\n",
        "\n",
        "    # Using static method\n",
        "    diff_result = MathOperations.subtract_numbers(35, 20)\n",
        "    print(f\"Difference: {diff_result}\")\n"
      ],
      "metadata": {
        "colab": {
          "base_uri": "https://localhost:8080/"
        },
        "id": "RHG_gJK-EQ26",
        "outputId": "73603dbf-8c1d-42c4-a875-d040225f76d2"
      },
      "execution_count": null,
      "outputs": [
        {
          "output_type": "stream",
          "name": "stdout",
          "text": [
            "Sum: 55\n",
            "Difference: 15\n"
          ]
        }
      ]
    },
    {
      "cell_type": "code",
      "source": [
        "#8. Implement a class Person with a class method to count the total number of persons created.\n",
        "\n",
        "class Person:\n",
        "    # Class variable to keep track of number of persons\n",
        "    _person_count = 0\n",
        "\n",
        "    def __init__(self, name):\n",
        "        self.name = name\n",
        "        Person._person_count += 1  # Increment count when a new person is created\n",
        "\n",
        "    @classmethod\n",
        "    def get_person_count(cls):\n",
        "        \"\"\"Class method to return total number of persons created.\"\"\"\n",
        "        return cls._person_count\n",
        "\n",
        "# Demonstration\n",
        "if __name__ == \"__main__\":\n",
        "    p1 = Person(\"Nandini\")\n",
        "    p2 = Person(\"Neha\")\n",
        "    p3 = Person(\"Manisha\")\n",
        "    p3 = Person(\"Jyoti\")\n",
        "\n",
        "    print(f\"Total persons created: {Person.get_person_count()}\")"
      ],
      "metadata": {
        "colab": {
          "base_uri": "https://localhost:8080/"
        },
        "id": "bXq41u_IEfkD",
        "outputId": "ac101984-93ce-4835-c288-17f8490b99c7"
      },
      "execution_count": null,
      "outputs": [
        {
          "output_type": "stream",
          "name": "stdout",
          "text": [
            "Total persons created: 4\n"
          ]
        }
      ]
    },
    {
      "cell_type": "code",
      "source": [
        "#9. Write a class Fraction with attributes numerator and denominator. Override the str method to display the fraction as \"numerator/denominator\".\n",
        "\n",
        "class Fraction:\n",
        "    def __init__(self, numerator, denominator):\n",
        "        self.numerator = numerator\n",
        "        self.denominator = denominator\n",
        "\n",
        "    def __str__(self):\n",
        "        return f\"{self.numerator}/{self.denominator}\"\n",
        "\n",
        "# Demonstration\n",
        "if __name__ == \"__main__\":\n",
        "    frac = Fraction(4, 5)\n",
        "    print(frac)"
      ],
      "metadata": {
        "colab": {
          "base_uri": "https://localhost:8080/"
        },
        "id": "MqfTf4SvE5F6",
        "outputId": "07ccade1-6862-406e-e53a-3310afdc2602"
      },
      "execution_count": null,
      "outputs": [
        {
          "output_type": "stream",
          "name": "stdout",
          "text": [
            "4/5\n"
          ]
        }
      ]
    },
    {
      "cell_type": "code",
      "source": [
        "#10. Demonstrate operator overloading by creating a class Vector and overriding the add method to add two vectors.\n",
        "\n",
        "class Vector:\n",
        "    def __init__(self, x, y):\n",
        "        self.x = x\n",
        "        self.y = y\n",
        "\n",
        "    def __add__(self, other):\n",
        "        if isinstance(other, Vector):\n",
        "            return Vector(self.x + other.x, self.y + other.y)\n",
        "        else:\n",
        "            raise TypeError(\"Operands must be Vector instances\")\n",
        "\n",
        "    def __str__(self):\n",
        "        return f\"Vector({self.x}, {self.y})\"\n",
        "\n",
        "# Demonstration\n",
        "if __name__ == \"__main__\":\n",
        "    v1 = Vector(5, 3)\n",
        "    v2 = Vector(4, 2)\n",
        "    v3 = v1 + v2\n",
        "    print(v3)\n",
        "\n"
      ],
      "metadata": {
        "colab": {
          "base_uri": "https://localhost:8080/"
        },
        "id": "L9_VBP0UFS7n",
        "outputId": "3367146c-d2ba-4ca5-cbd9-bbd2253b598c"
      },
      "execution_count": null,
      "outputs": [
        {
          "output_type": "stream",
          "name": "stdout",
          "text": [
            "Vector(9, 5)\n"
          ]
        }
      ]
    },
    {
      "cell_type": "code",
      "source": [
        "#11. Create a class Person with attributes name and age. Add a method greet() that prints \"Hello, my name is {name} and I am {age} years old.\"\n",
        "\n",
        "class Person:\n",
        "    def __init__(self, name, age):\n",
        "        self.name = name\n",
        "        self.age = age\n",
        "\n",
        "    def greet(self):\n",
        "        print(f\"Hello, my name is {self.name} and I am {self.age} years old.\")\n",
        "\n",
        "# Demonstration\n",
        "if __name__ == \"__main__\":\n",
        "    person = Person(\"Nandini\", 32)\n",
        "    person.greet()"
      ],
      "metadata": {
        "colab": {
          "base_uri": "https://localhost:8080/"
        },
        "id": "aPP1OooCFfZT",
        "outputId": "48eaac19-6f5e-4a96-c13a-97c4db5a269b"
      },
      "execution_count": null,
      "outputs": [
        {
          "output_type": "stream",
          "name": "stdout",
          "text": [
            "Hello, my name is Nandini and I am 32 years old.\n"
          ]
        }
      ]
    },
    {
      "cell_type": "code",
      "source": [
        "#12. Implement a class Student with attributes name and grades. Create a method average_grade() to compute the average of the grades.\n",
        "\n",
        "class Student:\n",
        "    def __init__(self, name, grades):\n",
        "        self.name = name\n",
        "        self.grades = grades  # Expecting a list of numbers\n",
        "\n",
        "    def average_grade(self):\n",
        "        if not self.grades:\n",
        "            return 0  # Avoid division by zero\n",
        "        return sum(self.grades) / len(self.grades)\n",
        "\n",
        "# Demonstration\n",
        "if __name__ == \"__main__\":\n",
        "    student = Student(\"Neha\", [90, 85, 75, 93])\n",
        "    avg = student.average_grade()\n",
        "    print(f\"{student.name}'s average grade is: {avg:.2f}\")\n",
        "\n"
      ],
      "metadata": {
        "colab": {
          "base_uri": "https://localhost:8080/"
        },
        "id": "jVPl4BsUHZ8b",
        "outputId": "2b019c13-331e-4025-bf44-b9177cc2cceb"
      },
      "execution_count": null,
      "outputs": [
        {
          "output_type": "stream",
          "name": "stdout",
          "text": [
            "Neha's average grade is: 85.75\n"
          ]
        }
      ]
    },
    {
      "cell_type": "code",
      "source": [
        "#13. Create a class Rectangle with methods set_dimensions() to set the dimensions and area() to calculate the area.\n",
        "\n",
        "class Rectangle:\n",
        "    def __init__(self):\n",
        "        self.length = 0\n",
        "        self.width = 0\n",
        "\n",
        "    def set_dimensions(self, length, width):\n",
        "        self.length = length\n",
        "        self.width = width\n",
        "\n",
        "    def area(self):\n",
        "        return self.length * self.width\n",
        "\n",
        "# Demonstration\n",
        "if __name__ == \"__main__\":\n",
        "    rect = Rectangle()\n",
        "    rect.set_dimensions(5, 3)\n",
        "    print(f\"Area of rectangle: {rect.area()}\")"
      ],
      "metadata": {
        "colab": {
          "base_uri": "https://localhost:8080/"
        },
        "id": "-DQBMkJ1H3Lg",
        "outputId": "e09b36ed-3288-43e0-93d5-e34fe828742d"
      },
      "execution_count": null,
      "outputs": [
        {
          "output_type": "stream",
          "name": "stdout",
          "text": [
            "Area of rectangle: 15\n"
          ]
        }
      ]
    },
    {
      "cell_type": "code",
      "source": [
        "#14. Create a class Employee with a method calculate_salary() that computes the salary based on hours worked and hourly rate. Create a derived class Manager that adds a bonus to the salary.\n",
        "\n",
        "class Employee:\n",
        "    def __init__(self, name, hours_worked, hourly_rate):\n",
        "        self.name = name\n",
        "        self.hours_worked = hours_worked\n",
        "        self.hourly_rate = hourly_rate\n",
        "\n",
        "    def calculate_salary(self):\n",
        "        return self.hours_worked * self.hourly_rate\n",
        "\n",
        "class Manager(Employee):\n",
        "    def __init__(self, name, hours_worked, hourly_rate, bonus):\n",
        "        super().__init__(name, hours_worked, hourly_rate)\n",
        "        self.bonus = bonus\n",
        "\n",
        "    def calculate_salary(self):\n",
        "        base_salary = super().calculate_salary()\n",
        "        return base_salary + self.bonus\n",
        "\n",
        "# Demonstration\n",
        "if __name__ == \"__main__\":\n",
        "    emp = Employee(\"Nandini\", 750, 20)\n",
        "    mgr = Manager(\"Ishani\", 900, 25, 500)\n",
        "\n",
        "    print(f\"{emp.name}'s salary: Rs{emp.calculate_salary()}\")\n",
        "    print(f\"{mgr.name}'s salary: Rs{mgr.calculate_salary()}\")\n"
      ],
      "metadata": {
        "colab": {
          "base_uri": "https://localhost:8080/"
        },
        "id": "CHiYkOzyICb8",
        "outputId": "8d433d9e-3f1e-40b8-ac29-c4f74b457c3a"
      },
      "execution_count": null,
      "outputs": [
        {
          "output_type": "stream",
          "name": "stdout",
          "text": [
            "Nandini's salary: Rs15000\n",
            "Ishani's salary: Rs23000\n"
          ]
        }
      ]
    },
    {
      "cell_type": "code",
      "source": [
        "#15. Create a class Product with attributes name, price, and quantity. Implement a method total_price() that calculates the total price of the product.\n",
        "\n",
        "class Product:\n",
        "    def __init__(self, name, price, quantity):\n",
        "        self.name = name\n",
        "        self.price = price\n",
        "        self.quantity = quantity\n",
        "\n",
        "    def total_price(self):\n",
        "        return self.price * self.quantity\n",
        "\n",
        "# Demonstration\n",
        "if __name__ == \"__main__\":\n",
        "    product = Product(\"Laptop\", 35000, 3)\n",
        "    print(f\"Total price for {product.quantity} {product.name}(s): Rs{product.total_price()}\")"
      ],
      "metadata": {
        "colab": {
          "base_uri": "https://localhost:8080/"
        },
        "id": "Yv6k9gTHIslx",
        "outputId": "358eafdb-c2ea-4f59-dbfe-3ca31899703e"
      },
      "execution_count": null,
      "outputs": [
        {
          "output_type": "stream",
          "name": "stdout",
          "text": [
            "Total price for 3 Laptop(s): Rs105000\n"
          ]
        }
      ]
    },
    {
      "cell_type": "code",
      "source": [
        "#16. Create a class Animal with an abstract method sound(). Create two derived classes Cow and Sheep that implement the sound() method.\n",
        "\n",
        "from abc import ABC, abstractmethod\n",
        "\n",
        "class Animal(ABC):\n",
        "    @abstractmethod\n",
        "    def sound(self):\n",
        "        pass\n",
        "\n",
        "class Cow(Animal):\n",
        "    def sound(self):\n",
        "        return \"Moo\"\n",
        "\n",
        "class Sheep(Animal):\n",
        "    def sound(self):\n",
        "        return \"Baa\"\n",
        "\n",
        "# Demonstration\n",
        "if __name__ == \"__main__\":\n",
        "    animals = [Cow(), Sheep()]\n",
        "    for animal in animals:\n",
        "        print(f\"{animal.__class__.__name__} says: {animal.sound()}\")"
      ],
      "metadata": {
        "colab": {
          "base_uri": "https://localhost:8080/"
        },
        "id": "OvCyKhj1JI4x",
        "outputId": "f550ab1f-3a1d-436f-a632-6c13468750e4"
      },
      "execution_count": null,
      "outputs": [
        {
          "output_type": "stream",
          "name": "stdout",
          "text": [
            "Cow says: Moo\n",
            "Sheep says: Baa\n"
          ]
        }
      ]
    },
    {
      "cell_type": "code",
      "source": [
        "#17. Create a class Book with attributes title, author, and year_published. Add a method get_book_info() that returns a formatted string with the book's details.\n",
        "\n",
        "class Book:\n",
        "    def __init__(self, title, author, year_published):\n",
        "        self.title = title\n",
        "        self.author = author\n",
        "        self.year_published = year_published\n",
        "\n",
        "    def get_book_info(self):\n",
        "        return f\"'{self.title}' by {self.author}, published in {self.year_published}\"\n",
        "\n",
        "# Demonstration\n",
        "if __name__ == \"__main__\":\n",
        "    book = Book(\"Revolution 2020\", \"Chetan Bhagat\", 2011)\n",
        "    print(book.get_book_info())"
      ],
      "metadata": {
        "colab": {
          "base_uri": "https://localhost:8080/"
        },
        "id": "QVRvAqYrJZq9",
        "outputId": "576399fc-c04d-42ed-9f70-406651c966ca"
      },
      "execution_count": null,
      "outputs": [
        {
          "output_type": "stream",
          "name": "stdout",
          "text": [
            "'Revolution 2020' by Chetan Bhagat, published in 2011\n"
          ]
        }
      ]
    },
    {
      "cell_type": "code",
      "source": [
        "#18. Create a class House with attributes address and price. Create a derived class Mansion that adds an attribute number_of_rooms.\n",
        "\n",
        "class House:\n",
        "    def __init__(self, address, price):\n",
        "        self.address = address\n",
        "        self.price = price\n",
        "\n",
        "class Mansion(House):\n",
        "    def __init__(self, address, price, number_of_rooms):\n",
        "        super().__init__(address, price)\n",
        "        self.number_of_rooms = number_of_rooms\n",
        "\n",
        "# Demonstration\n",
        "if __name__ == \"__main__\":\n",
        "    house = House(\"Happy Home\", 230000)\n",
        "    mansion = Mansion(\"Peace Palace\", 1200000, 8)\n",
        "\n",
        "    print(f\"House: {house.address}, Price: Rs{house.price}\")\n",
        "    print(f\"Mansion: {mansion.address}, Price: Rs{mansion.price}, Rooms: {mansion.number_of_rooms}\")"
      ],
      "metadata": {
        "colab": {
          "base_uri": "https://localhost:8080/"
        },
        "id": "1zpmU4yGJvaw",
        "outputId": "90309a70-2072-44d2-8cf5-effbe11787f5"
      },
      "execution_count": null,
      "outputs": [
        {
          "output_type": "stream",
          "name": "stdout",
          "text": [
            "House: Happy Home, Price: Rs230000\n",
            "Mansion: Peace Palace, Price: Rs1200000, Rooms: 8\n"
          ]
        }
      ]
    }
  ]
}